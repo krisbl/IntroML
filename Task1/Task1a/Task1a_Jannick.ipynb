{
 "cells": [
  {
   "cell_type": "markdown",
   "metadata": {},
   "source": [
    "# Introduction to Machine Learning: Task 1a\n",
    "\n",
    "__Author__: Jannick Sicher"
   ]
  },
  {
   "cell_type": "markdown",
   "metadata": {},
   "source": [
    "### Initial Configurations and Packages"
   ]
  },
  {
   "cell_type": "code",
   "execution_count": 1,
   "metadata": {},
   "outputs": [],
   "source": [
    "# Load packages\n",
    "import pandas as pd\n",
    "import numpy as np\n",
    "from sklearn.model_selection import GridSearchCV\n",
    "from sklearn.linear_model import Ridge\n",
    "from sklearn.model_selection import train_test_split\n",
    "from sklearn.metrics import mean_squared_error\n",
    "from math import sqrt"
   ]
  },
  {
   "cell_type": "markdown",
   "metadata": {},
   "source": [
    "###  Data Preparation"
   ]
  },
  {
   "cell_type": "code",
   "execution_count": 2,
   "metadata": {},
   "outputs": [
    {
     "data": {
      "text/html": [
       "<div>\n",
       "<table border=\"1\" class=\"dataframe\">\n",
       "  <thead>\n",
       "    <tr style=\"text-align: right;\">\n",
       "      <th></th>\n",
       "      <th>Id</th>\n",
       "      <th>y</th>\n",
       "      <th>x1</th>\n",
       "      <th>x2</th>\n",
       "      <th>x3</th>\n",
       "      <th>x4</th>\n",
       "      <th>x5</th>\n",
       "      <th>x6</th>\n",
       "      <th>x7</th>\n",
       "      <th>x8</th>\n",
       "      <th>x9</th>\n",
       "      <th>x10</th>\n",
       "    </tr>\n",
       "  </thead>\n",
       "  <tbody>\n",
       "    <tr>\n",
       "      <th>0</th>\n",
       "      <td>0</td>\n",
       "      <td>508.451970</td>\n",
       "      <td>0.886865</td>\n",
       "      <td>0.400531</td>\n",
       "      <td>1.103694</td>\n",
       "      <td>0.135455</td>\n",
       "      <td>8.148069</td>\n",
       "      <td>9.787555</td>\n",
       "      <td>79.749674</td>\n",
       "      <td>0.045166</td>\n",
       "      <td>1.859346</td>\n",
       "      <td>1.0</td>\n",
       "    </tr>\n",
       "    <tr>\n",
       "      <th>1</th>\n",
       "      <td>1</td>\n",
       "      <td>3972.980713</td>\n",
       "      <td>0.303604</td>\n",
       "      <td>-1.661598</td>\n",
       "      <td>0.772695</td>\n",
       "      <td>1.696182</td>\n",
       "      <td>0.455550</td>\n",
       "      <td>86.413653</td>\n",
       "      <td>39.365705</td>\n",
       "      <td>-0.014858</td>\n",
       "      <td>0.821406</td>\n",
       "      <td>1.0</td>\n",
       "    </tr>\n",
       "    <tr>\n",
       "      <th>2</th>\n",
       "      <td>2</td>\n",
       "      <td>-1.084332</td>\n",
       "      <td>1.065927</td>\n",
       "      <td>-1.607320</td>\n",
       "      <td>0.063896</td>\n",
       "      <td>-0.724311</td>\n",
       "      <td>-0.088216</td>\n",
       "      <td>0.132828</td>\n",
       "      <td>-0.011718</td>\n",
       "      <td>-0.773193</td>\n",
       "      <td>-1.489933</td>\n",
       "      <td>1.0</td>\n",
       "    </tr>\n",
       "    <tr>\n",
       "      <th>3</th>\n",
       "      <td>3</td>\n",
       "      <td>-340.149697</td>\n",
       "      <td>0.049530</td>\n",
       "      <td>-0.780820</td>\n",
       "      <td>-1.653181</td>\n",
       "      <td>0.663369</td>\n",
       "      <td>-2.492097</td>\n",
       "      <td>-1.243722</td>\n",
       "      <td>3.099476</td>\n",
       "      <td>-1.037881</td>\n",
       "      <td>0.346979</td>\n",
       "      <td>1.0</td>\n",
       "    </tr>\n",
       "    <tr>\n",
       "      <th>4</th>\n",
       "      <td>4</td>\n",
       "      <td>572.648651</td>\n",
       "      <td>0.417725</td>\n",
       "      <td>-1.150429</td>\n",
       "      <td>0.258384</td>\n",
       "      <td>0.045522</td>\n",
       "      <td>5.676019</td>\n",
       "      <td>-0.470274</td>\n",
       "      <td>-2.669283</td>\n",
       "      <td>0.632083</td>\n",
       "      <td>-0.510847</td>\n",
       "      <td>1.0</td>\n",
       "    </tr>\n",
       "  </tbody>\n",
       "</table>\n",
       "</div>"
      ],
      "text/plain": [
       "   Id            y        x1        x2        x3        x4        x5  \\\n",
       "0   0   508.451970  0.886865  0.400531  1.103694  0.135455  8.148069   \n",
       "1   1  3972.980713  0.303604 -1.661598  0.772695  1.696182  0.455550   \n",
       "2   2    -1.084332  1.065927 -1.607320  0.063896 -0.724311 -0.088216   \n",
       "3   3  -340.149697  0.049530 -0.780820 -1.653181  0.663369 -2.492097   \n",
       "4   4   572.648651  0.417725 -1.150429  0.258384  0.045522  5.676019   \n",
       "\n",
       "          x6         x7        x8        x9  x10  \n",
       "0   9.787555  79.749674  0.045166  1.859346  1.0  \n",
       "1  86.413653  39.365705 -0.014858  0.821406  1.0  \n",
       "2   0.132828  -0.011718 -0.773193 -1.489933  1.0  \n",
       "3  -1.243722   3.099476 -1.037881  0.346979  1.0  \n",
       "4  -0.470274  -2.669283  0.632083 -0.510847  1.0  "
      ]
     },
     "execution_count": 2,
     "metadata": {},
     "output_type": "execute_result"
    }
   ],
   "source": [
    "# Load data\n",
    "df = pd.read_csv(\"train.csv\")\n",
    "df.head()"
   ]
  },
  {
   "cell_type": "code",
   "execution_count": 26,
   "metadata": {},
   "outputs": [
    {
     "name": "stdout",
     "output_type": "stream",
     "text": [
      "(400, 10) (400,)\n",
      "(100, 10) (100,)\n"
     ]
    }
   ],
   "source": [
    "# Define Target Variable\n",
    "y = df[\"y\"] # define the target variable (dependent variable) as y\n",
    "Xs = df.drop(['Id','y'], axis = 1)\n",
    "# Train and Test Split\n",
    "X_train, X_test, y_train, y_test = train_test_split(Xs, y, test_size=0.2)\n",
    "print(X_train.shape, y_train.shape)\n",
    "print(X_test.shape, y_test.shape)"
   ]
  },
  {
   "cell_type": "markdown",
   "metadata": {},
   "source": [
    "### Ridge Regression"
   ]
  },
  {
   "cell_type": "code",
   "execution_count": 27,
   "metadata": {},
   "outputs": [
    {
     "data": {
      "text/plain": [
       "GridSearchCV(cv=10, error_score='raise',\n",
       "       estimator=Ridge(alpha=1.0, copy_X=True, fit_intercept=True, max_iter=None,\n",
       "   normalize=False, random_state=None, solver='auto', tol=0.001),\n",
       "       fit_params=None, iid=True, n_jobs=1,\n",
       "       param_grid={'alpha': [0.1, 1.0, 10.0, 100.0, 1000.0]},\n",
       "       pre_dispatch='2*n_jobs', refit=True, return_train_score='warn',\n",
       "       scoring='neg_mean_squared_error', verbose=0)"
      ]
     },
     "execution_count": 27,
     "metadata": {},
     "output_type": "execute_result"
    }
   ],
   "source": [
    "# Define Regularization Parameters\n",
    "parameters = {'alpha': [0.1, 1.0, 10.0, 100.0, 1000.0]}\n",
    "\n",
    "# Ridge Regression\n",
    "ridge = Ridge()\n",
    "\n",
    "ridge_regressor = GridSearchCV(ridge, parameters, scoring = 'neg_mean_squared_error', cv = 10)\n",
    "\n",
    "ridge_regressor.fit(X_train, y_train)"
   ]
  },
  {
   "cell_type": "code",
   "execution_count": 28,
   "metadata": {},
   "outputs": [],
   "source": [
    "# Compute Root Mean Squared Error from Test Results\n",
    "means = ridge_regressor.cv_results_[\"mean_test_score\"]\n",
    "root_mean_squared_error = np.sqrt(abs(means))"
   ]
  },
  {
   "cell_type": "code",
   "execution_count": 29,
   "metadata": {},
   "outputs": [
    {
     "data": {
      "text/html": [
       "<div>\n",
       "<table border=\"1\" class=\"dataframe\">\n",
       "  <thead>\n",
       "    <tr style=\"text-align: right;\">\n",
       "      <th></th>\n",
       "      <th>0</th>\n",
       "    </tr>\n",
       "  </thead>\n",
       "  <tbody>\n",
       "    <tr>\n",
       "      <th>0</th>\n",
       "      <td>1.013759</td>\n",
       "    </tr>\n",
       "    <tr>\n",
       "      <th>1</th>\n",
       "      <td>1.010339</td>\n",
       "    </tr>\n",
       "    <tr>\n",
       "      <th>2</th>\n",
       "      <td>1.039353</td>\n",
       "    </tr>\n",
       "    <tr>\n",
       "      <th>3</th>\n",
       "      <td>3.787761</td>\n",
       "    </tr>\n",
       "    <tr>\n",
       "      <th>4</th>\n",
       "      <td>36.535622</td>\n",
       "    </tr>\n",
       "  </tbody>\n",
       "</table>\n",
       "</div>"
      ],
      "text/plain": [
       "           0\n",
       "0   1.013759\n",
       "1   1.010339\n",
       "2   1.039353\n",
       "3   3.787761\n",
       "4  36.535622"
      ]
     },
     "execution_count": 29,
     "metadata": {},
     "output_type": "execute_result"
    }
   ],
   "source": [
    "# Create Submission File\n",
    "submission = pd.DataFrame(data = root_mean_squared_error, columns=None)\n",
    "submission.head()"
   ]
  }
 ],
 "metadata": {
  "kernelspec": {
   "display_name": "Python 3",
   "language": "python",
   "name": "python3"
  },
  "language_info": {
   "codemirror_mode": {
    "name": "ipython",
    "version": 3
   },
   "file_extension": ".py",
   "mimetype": "text/x-python",
   "name": "python",
   "nbconvert_exporter": "python",
   "pygments_lexer": "ipython3",
   "version": "3.6.4"
  }
 },
 "nbformat": 4,
 "nbformat_minor": 2
}
