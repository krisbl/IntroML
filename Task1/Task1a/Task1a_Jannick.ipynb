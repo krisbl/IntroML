{
 "cells": [
  {
   "cell_type": "markdown",
   "metadata": {},
   "source": [
    "# Introduction to Machine Learning: Task 1a\n",
    "\n",
    "__Author__: Jannick Sicher"
   ]
  },
  {
   "cell_type": "markdown",
   "metadata": {},
   "source": [
    "### Initial Configurations and Packages"
   ]
  },
  {
   "cell_type": "code",
   "execution_count": 1,
   "metadata": {},
   "outputs": [],
   "source": [
    "# Load packages\n",
    "import pandas as pd\n",
    "import numpy as np\n",
    "from sklearn.model_selection import GridSearchCV\n",
    "from sklearn.linear_model import Ridge\n",
    "from sklearn.model_selection import train_test_split\n",
    "from sklearn.metrics import mean_squared_error\n",
    "from math import sqrt\n",
    "from sklearn.model_selection import KFold"
   ]
  },
  {
   "cell_type": "markdown",
   "metadata": {},
   "source": [
    "###  Data Preparation"
   ]
  },
  {
   "cell_type": "code",
   "execution_count": 2,
   "metadata": {},
   "outputs": [
    {
     "data": {
      "text/html": [
       "<div>\n",
       "<table border=\"1\" class=\"dataframe\">\n",
       "  <thead>\n",
       "    <tr style=\"text-align: right;\">\n",
       "      <th></th>\n",
       "      <th>Id</th>\n",
       "      <th>y</th>\n",
       "      <th>x1</th>\n",
       "      <th>x2</th>\n",
       "      <th>x3</th>\n",
       "      <th>x4</th>\n",
       "      <th>x5</th>\n",
       "      <th>x6</th>\n",
       "      <th>x7</th>\n",
       "      <th>x8</th>\n",
       "      <th>x9</th>\n",
       "      <th>x10</th>\n",
       "    </tr>\n",
       "  </thead>\n",
       "  <tbody>\n",
       "    <tr>\n",
       "      <th>0</th>\n",
       "      <td>0</td>\n",
       "      <td>508.451970</td>\n",
       "      <td>0.886865</td>\n",
       "      <td>0.400531</td>\n",
       "      <td>1.103694</td>\n",
       "      <td>0.135455</td>\n",
       "      <td>8.148069</td>\n",
       "      <td>9.787555</td>\n",
       "      <td>79.749674</td>\n",
       "      <td>0.045166</td>\n",
       "      <td>1.859346</td>\n",
       "      <td>1.0</td>\n",
       "    </tr>\n",
       "    <tr>\n",
       "      <th>1</th>\n",
       "      <td>1</td>\n",
       "      <td>3972.980713</td>\n",
       "      <td>0.303604</td>\n",
       "      <td>-1.661598</td>\n",
       "      <td>0.772695</td>\n",
       "      <td>1.696182</td>\n",
       "      <td>0.455550</td>\n",
       "      <td>86.413653</td>\n",
       "      <td>39.365705</td>\n",
       "      <td>-0.014858</td>\n",
       "      <td>0.821406</td>\n",
       "      <td>1.0</td>\n",
       "    </tr>\n",
       "    <tr>\n",
       "      <th>2</th>\n",
       "      <td>2</td>\n",
       "      <td>-1.084332</td>\n",
       "      <td>1.065927</td>\n",
       "      <td>-1.607320</td>\n",
       "      <td>0.063896</td>\n",
       "      <td>-0.724311</td>\n",
       "      <td>-0.088216</td>\n",
       "      <td>0.132828</td>\n",
       "      <td>-0.011718</td>\n",
       "      <td>-0.773193</td>\n",
       "      <td>-1.489933</td>\n",
       "      <td>1.0</td>\n",
       "    </tr>\n",
       "    <tr>\n",
       "      <th>3</th>\n",
       "      <td>3</td>\n",
       "      <td>-340.149697</td>\n",
       "      <td>0.049530</td>\n",
       "      <td>-0.780820</td>\n",
       "      <td>-1.653181</td>\n",
       "      <td>0.663369</td>\n",
       "      <td>-2.492097</td>\n",
       "      <td>-1.243722</td>\n",
       "      <td>3.099476</td>\n",
       "      <td>-1.037881</td>\n",
       "      <td>0.346979</td>\n",
       "      <td>1.0</td>\n",
       "    </tr>\n",
       "    <tr>\n",
       "      <th>4</th>\n",
       "      <td>4</td>\n",
       "      <td>572.648651</td>\n",
       "      <td>0.417725</td>\n",
       "      <td>-1.150429</td>\n",
       "      <td>0.258384</td>\n",
       "      <td>0.045522</td>\n",
       "      <td>5.676019</td>\n",
       "      <td>-0.470274</td>\n",
       "      <td>-2.669283</td>\n",
       "      <td>0.632083</td>\n",
       "      <td>-0.510847</td>\n",
       "      <td>1.0</td>\n",
       "    </tr>\n",
       "  </tbody>\n",
       "</table>\n",
       "</div>"
      ],
      "text/plain": [
       "   Id            y        x1        x2        x3        x4        x5  \\\n",
       "0   0   508.451970  0.886865  0.400531  1.103694  0.135455  8.148069   \n",
       "1   1  3972.980713  0.303604 -1.661598  0.772695  1.696182  0.455550   \n",
       "2   2    -1.084332  1.065927 -1.607320  0.063896 -0.724311 -0.088216   \n",
       "3   3  -340.149697  0.049530 -0.780820 -1.653181  0.663369 -2.492097   \n",
       "4   4   572.648651  0.417725 -1.150429  0.258384  0.045522  5.676019   \n",
       "\n",
       "          x6         x7        x8        x9  x10  \n",
       "0   9.787555  79.749674  0.045166  1.859346  1.0  \n",
       "1  86.413653  39.365705 -0.014858  0.821406  1.0  \n",
       "2   0.132828  -0.011718 -0.773193 -1.489933  1.0  \n",
       "3  -1.243722   3.099476 -1.037881  0.346979  1.0  \n",
       "4  -0.470274  -2.669283  0.632083 -0.510847  1.0  "
      ]
     },
     "execution_count": 2,
     "metadata": {},
     "output_type": "execute_result"
    }
   ],
   "source": [
    "# Load data\n",
    "df = pd.read_csv(\"train.csv\")\n",
    "df.head()"
   ]
  },
  {
   "cell_type": "code",
   "execution_count": 3,
   "metadata": {},
   "outputs": [],
   "source": [
    "# Define Target Variable\n",
    "y = df[\"y\"] # define the target variable (dependent variable) as y\n",
    "# Define predictor Variables\n",
    "Xs = df.drop(['Id','y'], axis = 1)"
   ]
  },
  {
   "cell_type": "markdown",
   "metadata": {},
   "source": [
    "### Grid Search Cross Validation"
   ]
  },
  {
   "cell_type": "code",
   "execution_count": 4,
   "metadata": {},
   "outputs": [
    {
     "data": {
      "text/plain": [
       "GridSearchCV(cv=10, error_score='raise',\n",
       "       estimator=Ridge(alpha=1.0, copy_X=True, fit_intercept=False, max_iter=None,\n",
       "   normalize=False, random_state=None, solver='auto', tol=0.001),\n",
       "       fit_params=None, iid=True, n_jobs=1,\n",
       "       param_grid={'alpha': [0.1, 1.0, 10.0, 100.0, 1000.0]},\n",
       "       pre_dispatch='2*n_jobs', refit=True, return_train_score='warn',\n",
       "       scoring='neg_mean_squared_error', verbose=0)"
      ]
     },
     "execution_count": 4,
     "metadata": {},
     "output_type": "execute_result"
    }
   ],
   "source": [
    "# Define Regularization Parameters\n",
    "parameters = {'alpha': [0.1, 1.0, 10.0, 100.0, 1000.0]}\n",
    "\n",
    "# Ridge Regression\n",
    "ridge = Ridge(fit_intercept = False)\n",
    "\n",
    "ridge_regressor = GridSearchCV(ridge, parameters,\n",
    "                               scoring = 'neg_mean_squared_error', cv = 10)\n",
    "\n",
    "ridge_regressor.fit(Xs, y)"
   ]
  },
  {
   "cell_type": "code",
   "execution_count": 5,
   "metadata": {},
   "outputs": [],
   "source": [
    "# Compute Root Mean Squared Error from Test Results\n",
    "means = ridge_regressor.cv_results_[\"mean_test_score\"]\n",
    "root_mean_squared_error = np.sqrt(abs(means))"
   ]
  },
  {
   "cell_type": "code",
   "execution_count": 6,
   "metadata": {},
   "outputs": [
    {
     "data": {
      "text/html": [
       "<div>\n",
       "<table border=\"1\" class=\"dataframe\">\n",
       "  <thead>\n",
       "    <tr style=\"text-align: right;\">\n",
       "      <th></th>\n",
       "      <th>0</th>\n",
       "    </tr>\n",
       "  </thead>\n",
       "  <tbody>\n",
       "    <tr>\n",
       "      <th>0</th>\n",
       "      <td>1.010268</td>\n",
       "    </tr>\n",
       "    <tr>\n",
       "      <th>1</th>\n",
       "      <td>1.007159</td>\n",
       "    </tr>\n",
       "    <tr>\n",
       "      <th>2</th>\n",
       "      <td>1.023893</td>\n",
       "    </tr>\n",
       "    <tr>\n",
       "      <th>3</th>\n",
       "      <td>3.306179</td>\n",
       "    </tr>\n",
       "    <tr>\n",
       "      <th>4</th>\n",
       "      <td>31.690946</td>\n",
       "    </tr>\n",
       "  </tbody>\n",
       "</table>\n",
       "</div>"
      ],
      "text/plain": [
       "           0\n",
       "0   1.010268\n",
       "1   1.007159\n",
       "2   1.023893\n",
       "3   3.306179\n",
       "4  31.690946"
      ]
     },
     "execution_count": 6,
     "metadata": {},
     "output_type": "execute_result"
    }
   ],
   "source": [
    "# Create Submission File\n",
    "submission = pd.DataFrame(data = root_mean_squared_error, columns=None)\n",
    "submission.head()"
   ]
  },
  {
   "cell_type": "code",
   "execution_count": 7,
   "metadata": {},
   "outputs": [],
   "source": [
    "submission.to_csv('submission.csv', index = False, header = False)"
   ]
  },
  {
   "cell_type": "markdown",
   "metadata": {},
   "source": [
    "## K-Fold Cross Validation"
   ]
  },
  {
   "cell_type": "code",
   "execution_count": 8,
   "metadata": {},
   "outputs": [],
   "source": [
    "# Define Target Variable\n",
    "y = df[\"y\"] # define the target variable (dependent variable) as y\n",
    "# Define predictor Variables\n",
    "Xs = df.drop(['Id','y'], axis = 1)"
   ]
  },
  {
   "cell_type": "code",
   "execution_count": 9,
   "metadata": {},
   "outputs": [
    {
     "data": {
      "text/plain": [
       "10"
      ]
     },
     "execution_count": 9,
     "metadata": {},
     "output_type": "execute_result"
    }
   ],
   "source": [
    "k_folds = 10\n",
    "kf = KFold(n_splits=k_folds, random_state=42, shuffle=False)\n",
    "kf.get_n_splits(Xs)"
   ]
  },
  {
   "cell_type": "code",
   "execution_count": 10,
   "metadata": {},
   "outputs": [
    {
     "name": "stdout",
     "output_type": "stream",
     "text": [
      "Average RMSE: 1.005938404435637\n",
      "Average RMSE: 1.0026002531475364\n",
      "Average RMSE: 1.0197494069487274\n",
      "Average RMSE: 2.5762847054281655\n",
      "Average RMSE: 21.894475155996453\n"
     ]
    }
   ],
   "source": [
    "# Define lambda values\n",
    "lambdas =  [0.1, 1.0, 10.0, 100.0, 1000.0]\n",
    "\n",
    "RMSE = np.array([])\n",
    "\n",
    "# For loop for ridge regression for different lambdas\n",
    "for lambdavalue in lambdas:\n",
    "    Average_RMSE = 0\n",
    "    for train_index, test_index in kf.split(Xs):\n",
    "        X_train, X_test = Xs.iloc[train_index], Xs.iloc[test_index]\n",
    "        y_train, y_test = y.iloc[train_index], y.iloc[test_index]\n",
    "        ridge = Ridge(alpha = lambdavalue).fit(X_train,y_train)\n",
    "        y_pred = ridge.predict(X_test)\n",
    "        RMSE = mean_squared_error(y_test, y_pred)**0.5\n",
    "        Average_RMSE += RMSE\n",
    "    Average_RMSE /= k_folds\n",
    "    print(\"Average RMSE: \"+str(Average_RMSE))"
   ]
  }
 ],
 "metadata": {
  "kernelspec": {
   "display_name": "Python 3",
   "language": "python",
   "name": "python3"
  },
  "language_info": {
   "codemirror_mode": {
    "name": "ipython",
    "version": 3
   },
   "file_extension": ".py",
   "mimetype": "text/x-python",
   "name": "python",
   "nbconvert_exporter": "python",
   "pygments_lexer": "ipython3",
   "version": "3.6.4"
  }
 },
 "nbformat": 4,
 "nbformat_minor": 2
}
