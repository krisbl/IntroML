{
 "cells": [
  {
   "cell_type": "markdown",
   "metadata": {},
   "source": [
    "# Task 1b\n",
    "## Kristin Blesch"
   ]
  },
  {
   "cell_type": "code",
   "execution_count": 43,
   "metadata": {},
   "outputs": [],
   "source": [
    "import pandas as pd\n",
    "import numpy as np\n",
    "from sklearn.linear_model import LinearRegression"
   ]
  },
  {
   "cell_type": "code",
   "execution_count": 44,
   "metadata": {},
   "outputs": [],
   "source": [
    "df_train = pd.read_csv('train.csv').as_matrix()\n",
    "y = df_train[:,1]\n",
    "x1 = df_train[:,2]\n",
    "x2 = df_train[:,3]\n",
    "x3 = df_train[:,4]\n",
    "x4 = df_train[:,5]\n",
    "x5 = df_train[:,6]"
   ]
  },
  {
   "cell_type": "markdown",
   "metadata": {},
   "source": [
    "### Stack transformed variables together in one array"
   ]
  },
  {
   "cell_type": "code",
   "execution_count": 45,
   "metadata": {},
   "outputs": [],
   "source": [
    "x = np.column_stack((x1, x2, x3, x4, x5, \n",
    "                       x1**2, x2**2, x3**2, x4**2, x5**2,\n",
    "                       np.exp(x1),np.exp(x2),np.exp(x3),np.exp(x4),np.exp(x5), \n",
    "                        np.cos(x1),np.cos(x2),np.cos(x3),np.cos(x4),np.cos(x5),\n",
    "                        np.ones(df_train.shape[0])))"
   ]
  },
  {
   "cell_type": "markdown",
   "metadata": {},
   "source": [
    "### Fit linear model without intercept"
   ]
  },
  {
   "cell_type": "code",
   "execution_count": 46,
   "metadata": {},
   "outputs": [],
   "source": [
    "model = LinearRegression(fit_intercept = False).fit(x,y)\n",
    "coefficients = model.coef_"
   ]
  },
  {
   "cell_type": "markdown",
   "metadata": {},
   "source": [
    "### Result: coefficients"
   ]
  },
  {
   "cell_type": "code",
   "execution_count": 47,
   "metadata": {},
   "outputs": [
    {
     "name": "stdout",
     "output_type": "stream",
     "text": [
      "           0\n",
      "0   0.621003\n",
      "1  -1.880502\n",
      "2   0.384095\n",
      "3  -0.441386\n",
      "4   0.386888\n",
      "5  -0.361083\n",
      "6   0.391405\n",
      "7   0.175731\n",
      "8  -2.719074\n",
      "9   2.234341\n",
      "10  1.178537\n",
      "11  0.404125\n",
      "12 -1.264123\n",
      "13  0.615300\n",
      "14 -0.339502\n",
      "15  3.107236\n",
      "16  1.840122\n",
      "17  0.966937\n",
      "18 -6.095857\n",
      "19  3.971786\n",
      "20 -6.313361\n"
     ]
    }
   ],
   "source": [
    "print(pd.DataFrame(coefficients))"
   ]
  },
  {
   "cell_type": "code",
   "execution_count": null,
   "metadata": {},
   "outputs": [],
   "source": []
  }
 ],
 "metadata": {
  "kernelspec": {
   "display_name": "Python 3",
   "language": "python",
   "name": "python3"
  },
  "language_info": {
   "codemirror_mode": {
    "name": "ipython",
    "version": 3
   },
   "file_extension": ".py",
   "mimetype": "text/x-python",
   "name": "python",
   "nbconvert_exporter": "python",
   "pygments_lexer": "ipython3",
   "version": "3.6.4"
  }
 },
 "nbformat": 4,
 "nbformat_minor": 2
}
