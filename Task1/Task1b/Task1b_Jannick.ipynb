{
 "cells": [
  {
   "cell_type": "markdown",
   "metadata": {},
   "source": [
    "# Introduction to Machine Learning: Task 1b\n",
    "\n",
    "__Author__: Jannick Sicher"
   ]
  },
  {
   "cell_type": "markdown",
   "metadata": {},
   "source": [
    "### Initial Configurations and Packages"
   ]
  },
  {
   "cell_type": "code",
   "execution_count": 68,
   "metadata": {},
   "outputs": [],
   "source": [
    "# Load packages\n",
    "import numpy\n",
    "import matplotlib.pyplot as plot\n",
    "import pandas\n",
    "from sklearn.model_selection import train_test_split\n",
    "from sklearn.linear_model import LinearRegression\n",
    "from sklearn.metrics import mean_squared_error"
   ]
  },
  {
   "cell_type": "code",
   "execution_count": 69,
   "metadata": {},
   "outputs": [
    {
     "data": {
      "text/html": [
       "<div>\n",
       "<table border=\"1\" class=\"dataframe\">\n",
       "  <thead>\n",
       "    <tr style=\"text-align: right;\">\n",
       "      <th></th>\n",
       "      <th>Id</th>\n",
       "      <th>y</th>\n",
       "      <th>x1</th>\n",
       "      <th>x2</th>\n",
       "      <th>x3</th>\n",
       "      <th>x4</th>\n",
       "      <th>x5</th>\n",
       "    </tr>\n",
       "  </thead>\n",
       "  <tbody>\n",
       "    <tr>\n",
       "      <th>0</th>\n",
       "      <td>0</td>\n",
       "      <td>-5.522114</td>\n",
       "      <td>1.764052</td>\n",
       "      <td>0.400157</td>\n",
       "      <td>0.978738</td>\n",
       "      <td>2.240893</td>\n",
       "      <td>1.867558</td>\n",
       "    </tr>\n",
       "    <tr>\n",
       "      <th>1</th>\n",
       "      <td>1</td>\n",
       "      <td>-21.789980</td>\n",
       "      <td>-0.977278</td>\n",
       "      <td>0.950088</td>\n",
       "      <td>-0.151357</td>\n",
       "      <td>-0.103219</td>\n",
       "      <td>0.410599</td>\n",
       "    </tr>\n",
       "    <tr>\n",
       "      <th>2</th>\n",
       "      <td>2</td>\n",
       "      <td>-7.911497</td>\n",
       "      <td>0.144044</td>\n",
       "      <td>1.454274</td>\n",
       "      <td>0.761038</td>\n",
       "      <td>0.121675</td>\n",
       "      <td>0.443863</td>\n",
       "    </tr>\n",
       "    <tr>\n",
       "      <th>3</th>\n",
       "      <td>3</td>\n",
       "      <td>-3.698062</td>\n",
       "      <td>0.333674</td>\n",
       "      <td>1.494079</td>\n",
       "      <td>-0.205158</td>\n",
       "      <td>0.313068</td>\n",
       "      <td>-0.854096</td>\n",
       "    </tr>\n",
       "    <tr>\n",
       "      <th>4</th>\n",
       "      <td>4</td>\n",
       "      <td>-16.001833</td>\n",
       "      <td>-2.552990</td>\n",
       "      <td>0.653619</td>\n",
       "      <td>0.864436</td>\n",
       "      <td>-0.742165</td>\n",
       "      <td>2.269755</td>\n",
       "    </tr>\n",
       "  </tbody>\n",
       "</table>\n",
       "</div>"
      ],
      "text/plain": [
       "   Id          y        x1        x2        x3        x4        x5\n",
       "0   0  -5.522114  1.764052  0.400157  0.978738  2.240893  1.867558\n",
       "1   1 -21.789980 -0.977278  0.950088 -0.151357 -0.103219  0.410599\n",
       "2   2  -7.911497  0.144044  1.454274  0.761038  0.121675  0.443863\n",
       "3   3  -3.698062  0.333674  1.494079 -0.205158  0.313068 -0.854096\n",
       "4   4 -16.001833 -2.552990  0.653619  0.864436 -0.742165  2.269755"
      ]
     },
     "execution_count": 69,
     "metadata": {},
     "output_type": "execute_result"
    }
   ],
   "source": [
    "# Load data\n",
    "df = pd.read_csv(\"train.csv\")\n",
    "df.head()"
   ]
  },
  {
   "cell_type": "code",
   "execution_count": 70,
   "metadata": {},
   "outputs": [
    {
     "name": "stdout",
     "output_type": "stream",
     "text": [
      "(800, 5) (800,)\n",
      "(200, 5) (200,)\n"
     ]
    }
   ],
   "source": [
    "# Define Target Variable\n",
    "y = df[\"y\"] # define the target variable (dependent variable) as y\n",
    "Xs = df.drop(['Id','y'], axis = 1)\n",
    "# Train and Test Split\n",
    "X_train, X_test, y_train, y_test = train_test_split(Xs, y, test_size=0.2)\n",
    "print(X_train.shape, y_train.shape)\n",
    "print(X_test.shape, y_test.shape)"
   ]
  },
  {
   "cell_type": "markdown",
   "metadata": {},
   "source": [
    "### Linear Regression"
   ]
  },
  {
   "cell_type": "code",
   "execution_count": 71,
   "metadata": {},
   "outputs": [
    {
     "name": "stdout",
     "output_type": "stream",
     "text": [
      "Coefficients: \n",
      " [ 2.61821714 -1.339253   -1.83134595  0.36994903 -0.58503927]\n",
      "Mean squared error: 104.49\n"
     ]
    }
   ],
   "source": [
    "#initialisation of linear regression \n",
    "linear_model = LinearRegression()\n",
    "\n",
    "#inserting the train data in model for training purpose \n",
    "linear_model.fit(X_train,y_train)\n",
    "#now model trained with this data\n",
    "\n",
    "#now we will do prediction for the data \n",
    "y_pred = linear_model.predict(X_test)\n",
    "\n",
    "#test our result how accurate our model is \n",
    "error = y_test-y_pred\n",
    "\n",
    "#e= np.sum(error)\n",
    "#abserror = np.absolute(error)\n",
    "#sqrarr= np.square(error)\n",
    "#addall= np.sum(sqrarr)\n",
    "print('Coefficients: \\n', linear_model.coef_)\n",
    "print(\"Mean squared error: %.2f\"\n",
    "      % mean_squared_error(y_test, y_pred))"
   ]
  },
  {
   "cell_type": "markdown",
   "metadata": {},
   "source": [
    "### Quadratic Transformation"
   ]
  },
  {
   "cell_type": "code",
   "execution_count": 72,
   "metadata": {},
   "outputs": [
    {
     "data": {
      "text/html": [
       "<div>\n",
       "<table border=\"1\" class=\"dataframe\">\n",
       "  <thead>\n",
       "    <tr style=\"text-align: right;\">\n",
       "      <th></th>\n",
       "      <th>x1</th>\n",
       "      <th>x2</th>\n",
       "      <th>x3</th>\n",
       "      <th>x4</th>\n",
       "      <th>x5</th>\n",
       "    </tr>\n",
       "  </thead>\n",
       "  <tbody>\n",
       "    <tr>\n",
       "      <th>0</th>\n",
       "      <td>3.111881</td>\n",
       "      <td>0.160126</td>\n",
       "      <td>0.957928</td>\n",
       "      <td>5.021602</td>\n",
       "      <td>3.487773</td>\n",
       "    </tr>\n",
       "    <tr>\n",
       "      <th>1</th>\n",
       "      <td>0.955072</td>\n",
       "      <td>0.902668</td>\n",
       "      <td>0.022909</td>\n",
       "      <td>0.010654</td>\n",
       "      <td>0.168591</td>\n",
       "    </tr>\n",
       "    <tr>\n",
       "      <th>2</th>\n",
       "      <td>0.020749</td>\n",
       "      <td>2.114911</td>\n",
       "      <td>0.579178</td>\n",
       "      <td>0.014805</td>\n",
       "      <td>0.197015</td>\n",
       "    </tr>\n",
       "    <tr>\n",
       "      <th>3</th>\n",
       "      <td>0.111339</td>\n",
       "      <td>2.232272</td>\n",
       "      <td>0.042090</td>\n",
       "      <td>0.098011</td>\n",
       "      <td>0.729480</td>\n",
       "    </tr>\n",
       "    <tr>\n",
       "      <th>4</th>\n",
       "      <td>6.517757</td>\n",
       "      <td>0.427217</td>\n",
       "      <td>0.747250</td>\n",
       "      <td>0.550809</td>\n",
       "      <td>5.151786</td>\n",
       "    </tr>\n",
       "  </tbody>\n",
       "</table>\n",
       "</div>"
      ],
      "text/plain": [
       "         x1        x2        x3        x4        x5\n",
       "0  3.111881  0.160126  0.957928  5.021602  3.487773\n",
       "1  0.955072  0.902668  0.022909  0.010654  0.168591\n",
       "2  0.020749  2.114911  0.579178  0.014805  0.197015\n",
       "3  0.111339  2.232272  0.042090  0.098011  0.729480\n",
       "4  6.517757  0.427217  0.747250  0.550809  5.151786"
      ]
     },
     "execution_count": 72,
     "metadata": {},
     "output_type": "execute_result"
    }
   ],
   "source": [
    "Xq = df[['x1', 'x2', 'x3', 'x4', 'x5']]**2\n",
    "Xq.head()"
   ]
  },
  {
   "cell_type": "code",
   "execution_count": 73,
   "metadata": {},
   "outputs": [
    {
     "name": "stdout",
     "output_type": "stream",
     "text": [
      "(800, 5) (800,)\n",
      "(200, 5) (200,)\n"
     ]
    }
   ],
   "source": [
    "# Train and Test Split\n",
    "X_train, X_test, y_train, y_test = train_test_split(Xq, y, test_size=0.2)\n",
    "print(X_train.shape, y_train.shape)\n",
    "print(X_test.shape, y_test.shape)"
   ]
  },
  {
   "cell_type": "code",
   "execution_count": 74,
   "metadata": {},
   "outputs": [
    {
     "name": "stdout",
     "output_type": "stream",
     "text": [
      "Coefficients: \n",
      " [-0.64354644 -0.06751144 -1.36921758 -0.10642783  0.47094992]\n",
      "Mean squared error: 108.96\n"
     ]
    }
   ],
   "source": [
    "#initialisation of linear regression \n",
    "linear_model = LinearRegression()\n",
    "\n",
    "#inserting the train data in model for training purpose \n",
    "linear_model.fit(X_train,y_train)\n",
    "#now model trained with this data\n",
    "\n",
    "#now we will do prediction for the data \n",
    "y_pred = linear_model.predict(X_test)\n",
    "\n",
    "#test our result how accurate our model is \n",
    "error = y_test-y_pred\n",
    "\n",
    "#e= np.sum(error)\n",
    "#abserror = np.absolute(error)\n",
    "#sqrarr= np.square(error)\n",
    "#addall= np.sum(sqrarr)\n",
    "print('Coefficients: \\n', linear_model.coef_)\n",
    "print(\"Mean squared error: %.2f\"\n",
    "      % mean_squared_error(y_test, y_pred))"
   ]
  },
  {
   "cell_type": "markdown",
   "metadata": {},
   "source": [
    "### Exponential Transformation"
   ]
  },
  {
   "cell_type": "code",
   "execution_count": 75,
   "metadata": {},
   "outputs": [
    {
     "data": {
      "text/html": [
       "<div>\n",
       "<table border=\"1\" class=\"dataframe\">\n",
       "  <thead>\n",
       "    <tr style=\"text-align: right;\">\n",
       "      <th></th>\n",
       "      <th>x1</th>\n",
       "      <th>x2</th>\n",
       "      <th>x3</th>\n",
       "      <th>x4</th>\n",
       "      <th>x5</th>\n",
       "    </tr>\n",
       "  </thead>\n",
       "  <tbody>\n",
       "    <tr>\n",
       "      <th>0</th>\n",
       "      <td>5.836039</td>\n",
       "      <td>1.492059</td>\n",
       "      <td>2.661096</td>\n",
       "      <td>9.401725</td>\n",
       "      <td>6.472471</td>\n",
       "    </tr>\n",
       "    <tr>\n",
       "      <th>1</th>\n",
       "      <td>0.376334</td>\n",
       "      <td>2.585938</td>\n",
       "      <td>0.859541</td>\n",
       "      <td>0.901930</td>\n",
       "      <td>1.507720</td>\n",
       "    </tr>\n",
       "    <tr>\n",
       "      <th>2</th>\n",
       "      <td>1.154934</td>\n",
       "      <td>4.281372</td>\n",
       "      <td>2.140496</td>\n",
       "      <td>1.129387</td>\n",
       "      <td>1.558717</td>\n",
       "    </tr>\n",
       "    <tr>\n",
       "      <th>3</th>\n",
       "      <td>1.396088</td>\n",
       "      <td>4.455232</td>\n",
       "      <td>0.814518</td>\n",
       "      <td>1.367614</td>\n",
       "      <td>0.425668</td>\n",
       "    </tr>\n",
       "    <tr>\n",
       "      <th>4</th>\n",
       "      <td>0.077849</td>\n",
       "      <td>1.922485</td>\n",
       "      <td>2.373667</td>\n",
       "      <td>0.476082</td>\n",
       "      <td>9.677026</td>\n",
       "    </tr>\n",
       "  </tbody>\n",
       "</table>\n",
       "</div>"
      ],
      "text/plain": [
       "         x1        x2        x3        x4        x5\n",
       "0  5.836039  1.492059  2.661096  9.401725  6.472471\n",
       "1  0.376334  2.585938  0.859541  0.901930  1.507720\n",
       "2  1.154934  4.281372  2.140496  1.129387  1.558717\n",
       "3  1.396088  4.455232  0.814518  1.367614  0.425668\n",
       "4  0.077849  1.922485  2.373667  0.476082  9.677026"
      ]
     },
     "execution_count": 75,
     "metadata": {},
     "output_type": "execute_result"
    }
   ],
   "source": [
    "Xe = np.exp(df[['x1', 'x2', 'x3', 'x4', 'x5']])\n",
    "Xe.head()"
   ]
  },
  {
   "cell_type": "code",
   "execution_count": 76,
   "metadata": {},
   "outputs": [
    {
     "name": "stdout",
     "output_type": "stream",
     "text": [
      "(800, 5) (800,)\n",
      "(200, 5) (200,)\n"
     ]
    }
   ],
   "source": [
    "# Train and Test Split\n",
    "X_train, X_test, y_train, y_test = train_test_split(Xe, y, test_size=0.2)\n",
    "print(X_train.shape, y_train.shape)\n",
    "print(X_test.shape, y_test.shape)"
   ]
  },
  {
   "cell_type": "code",
   "execution_count": 77,
   "metadata": {},
   "outputs": [
    {
     "name": "stdout",
     "output_type": "stream",
     "text": [
      "Coefficients: \n",
      " [ 0.85539307 -0.63452424 -1.20693906  0.05934347  0.14956245]\n",
      "Mean squared error: 105.51\n"
     ]
    }
   ],
   "source": [
    "#initialisation of linear regression \n",
    "linear_model = LinearRegression()\n",
    "\n",
    "#inserting the train data in model for training purpose \n",
    "linear_model.fit(X_train,y_train)\n",
    "#now model trained with this data\n",
    "\n",
    "#now we will do prediction for the data \n",
    "y_pred = linear_model.predict(X_test)\n",
    "\n",
    "#test our result how accurate our model is \n",
    "error = y_test-y_pred\n",
    "\n",
    "#e= np.sum(error)\n",
    "#abserror = np.absolute(error)\n",
    "#sqrarr= np.square(error)\n",
    "#addall= np.sum(sqrarr)\n",
    "print('Coefficients: \\n', linear_model.coef_)\n",
    "print(\"Mean squared error: %.2f\"\n",
    "      % mean_squared_error(y_test, y_pred))"
   ]
  },
  {
   "cell_type": "markdown",
   "metadata": {},
   "source": [
    "### Cosine Transformation"
   ]
  },
  {
   "cell_type": "code",
   "execution_count": 78,
   "metadata": {},
   "outputs": [
    {
     "data": {
      "text/html": [
       "<div>\n",
       "<table border=\"1\" class=\"dataframe\">\n",
       "  <thead>\n",
       "    <tr style=\"text-align: right;\">\n",
       "      <th></th>\n",
       "      <th>x1</th>\n",
       "      <th>x2</th>\n",
       "      <th>x3</th>\n",
       "      <th>x4</th>\n",
       "      <th>x5</th>\n",
       "    </tr>\n",
       "  </thead>\n",
       "  <tbody>\n",
       "    <tr>\n",
       "      <th>0</th>\n",
       "      <td>-0.192055</td>\n",
       "      <td>0.921000</td>\n",
       "      <td>0.558070</td>\n",
       "      <td>-0.621062</td>\n",
       "      <td>-0.292425</td>\n",
       "    </tr>\n",
       "    <tr>\n",
       "      <th>1</th>\n",
       "      <td>0.559281</td>\n",
       "      <td>0.581611</td>\n",
       "      <td>0.988567</td>\n",
       "      <td>0.994678</td>\n",
       "      <td>0.916882</td>\n",
       "    </tr>\n",
       "    <tr>\n",
       "      <th>2</th>\n",
       "      <td>0.989644</td>\n",
       "      <td>0.116259</td>\n",
       "      <td>0.724121</td>\n",
       "      <td>0.992607</td>\n",
       "      <td>0.903099</td>\n",
       "    </tr>\n",
       "    <tr>\n",
       "      <th>3</th>\n",
       "      <td>0.944845</td>\n",
       "      <td>0.076642</td>\n",
       "      <td>0.979029</td>\n",
       "      <td>0.951393</td>\n",
       "      <td>0.656901</td>\n",
       "    </tr>\n",
       "    <tr>\n",
       "      <th>4</th>\n",
       "      <td>-0.831717</td>\n",
       "      <td>0.793889</td>\n",
       "      <td>0.649069</td>\n",
       "      <td>0.737007</td>\n",
       "      <td>-0.643421</td>\n",
       "    </tr>\n",
       "  </tbody>\n",
       "</table>\n",
       "</div>"
      ],
      "text/plain": [
       "         x1        x2        x3        x4        x5\n",
       "0 -0.192055  0.921000  0.558070 -0.621062 -0.292425\n",
       "1  0.559281  0.581611  0.988567  0.994678  0.916882\n",
       "2  0.989644  0.116259  0.724121  0.992607  0.903099\n",
       "3  0.944845  0.076642  0.979029  0.951393  0.656901\n",
       "4 -0.831717  0.793889  0.649069  0.737007 -0.643421"
      ]
     },
     "execution_count": 78,
     "metadata": {},
     "output_type": "execute_result"
    }
   ],
   "source": [
    "Xc = np.cos(df[['x1', 'x2', 'x3', 'x4', 'x5']])\n",
    "Xc.head()"
   ]
  },
  {
   "cell_type": "code",
   "execution_count": 79,
   "metadata": {},
   "outputs": [
    {
     "name": "stdout",
     "output_type": "stream",
     "text": [
      "(800, 5) (800,)\n",
      "(200, 5) (200,)\n"
     ]
    }
   ],
   "source": [
    "# Train and Test Split\n",
    "X_train, X_test, y_train, y_test = train_test_split(Xc, y, test_size=0.2)\n",
    "print(X_train.shape, y_train.shape)\n",
    "print(X_test.shape, y_test.shape)"
   ]
  },
  {
   "cell_type": "code",
   "execution_count": 80,
   "metadata": {},
   "outputs": [
    {
     "name": "stdout",
     "output_type": "stream",
     "text": [
      "Coefficients: \n",
      " [ 1.77304264 -0.36827784  3.54598953 -0.09951397 -1.5556242 ]\n",
      "Mean squared error: 118.58\n"
     ]
    }
   ],
   "source": [
    "#initialisation of linear regression \n",
    "linear_model = LinearRegression()\n",
    "\n",
    "#inserting the train data in model for training purpose \n",
    "linear_model.fit(X_train,y_train)\n",
    "#now model trained with this data\n",
    "\n",
    "#now we will do prediction for the data \n",
    "y_pred = linear_model.predict(X_test)\n",
    "\n",
    "#test our result how accurate our model is \n",
    "error = y_test-y_pred\n",
    "\n",
    "#e= np.sum(error)\n",
    "#abserror = np.absolute(error)\n",
    "#sqrarr= np.square(error)\n",
    "#addall= np.sum(sqrarr)\n",
    "print('Coefficients: \\n', linear_model.coef_)\n",
    "print(\"Mean squared error: %.2f\"\n",
    "      % mean_squared_error(y_test, y_pred))"
   ]
  },
  {
   "cell_type": "markdown",
   "metadata": {},
   "source": [
    "### Constant Transformation"
   ]
  },
  {
   "cell_type": "code",
   "execution_count": 81,
   "metadata": {},
   "outputs": [
    {
     "data": {
      "text/html": [
       "<div>\n",
       "<table border=\"1\" class=\"dataframe\">\n",
       "  <thead>\n",
       "    <tr style=\"text-align: right;\">\n",
       "      <th></th>\n",
       "      <th>Id</th>\n",
       "      <th>y</th>\n",
       "      <th>x1</th>\n",
       "      <th>x2</th>\n",
       "      <th>x3</th>\n",
       "      <th>x4</th>\n",
       "      <th>x5</th>\n",
       "      <th>Xconst</th>\n",
       "    </tr>\n",
       "  </thead>\n",
       "  <tbody>\n",
       "    <tr>\n",
       "      <th>0</th>\n",
       "      <td>0</td>\n",
       "      <td>-5.522114</td>\n",
       "      <td>1.764052</td>\n",
       "      <td>0.400157</td>\n",
       "      <td>0.978738</td>\n",
       "      <td>2.240893</td>\n",
       "      <td>1.867558</td>\n",
       "      <td>1.0</td>\n",
       "    </tr>\n",
       "    <tr>\n",
       "      <th>1</th>\n",
       "      <td>1</td>\n",
       "      <td>-21.789980</td>\n",
       "      <td>-0.977278</td>\n",
       "      <td>0.950088</td>\n",
       "      <td>-0.151357</td>\n",
       "      <td>-0.103219</td>\n",
       "      <td>0.410599</td>\n",
       "      <td>1.0</td>\n",
       "    </tr>\n",
       "    <tr>\n",
       "      <th>2</th>\n",
       "      <td>2</td>\n",
       "      <td>-7.911497</td>\n",
       "      <td>0.144044</td>\n",
       "      <td>1.454274</td>\n",
       "      <td>0.761038</td>\n",
       "      <td>0.121675</td>\n",
       "      <td>0.443863</td>\n",
       "      <td>1.0</td>\n",
       "    </tr>\n",
       "    <tr>\n",
       "      <th>3</th>\n",
       "      <td>3</td>\n",
       "      <td>-3.698062</td>\n",
       "      <td>0.333674</td>\n",
       "      <td>1.494079</td>\n",
       "      <td>-0.205158</td>\n",
       "      <td>0.313068</td>\n",
       "      <td>-0.854096</td>\n",
       "      <td>1.0</td>\n",
       "    </tr>\n",
       "    <tr>\n",
       "      <th>4</th>\n",
       "      <td>4</td>\n",
       "      <td>-16.001833</td>\n",
       "      <td>-2.552990</td>\n",
       "      <td>0.653619</td>\n",
       "      <td>0.864436</td>\n",
       "      <td>-0.742165</td>\n",
       "      <td>2.269755</td>\n",
       "      <td>1.0</td>\n",
       "    </tr>\n",
       "  </tbody>\n",
       "</table>\n",
       "</div>"
      ],
      "text/plain": [
       "   Id          y        x1        x2        x3        x4        x5  Xconst\n",
       "0   0  -5.522114  1.764052  0.400157  0.978738  2.240893  1.867558     1.0\n",
       "1   1 -21.789980 -0.977278  0.950088 -0.151357 -0.103219  0.410599     1.0\n",
       "2   2  -7.911497  0.144044  1.454274  0.761038  0.121675  0.443863     1.0\n",
       "3   3  -3.698062  0.333674  1.494079 -0.205158  0.313068 -0.854096     1.0\n",
       "4   4 -16.001833 -2.552990  0.653619  0.864436 -0.742165  2.269755     1.0"
      ]
     },
     "execution_count": 81,
     "metadata": {},
     "output_type": "execute_result"
    }
   ],
   "source": [
    "Xconst = np.ones(1000)\n",
    "df['Xconst']= Xconst\n",
    "Xconst = Xconst.reshape(-1,1)\n",
    "df.head()"
   ]
  },
  {
   "cell_type": "code",
   "execution_count": 82,
   "metadata": {},
   "outputs": [
    {
     "name": "stdout",
     "output_type": "stream",
     "text": [
      "(800, 1) (800,)\n",
      "(200, 1) (200,)\n"
     ]
    }
   ],
   "source": [
    "# Train and Test Split\n",
    "X_train, X_test, y_train, y_test = train_test_split(Xconst, y, test_size=0.2)\n",
    "print(X_train.shape, y_train.shape)\n",
    "print(X_test.shape, y_test.shape)"
   ]
  },
  {
   "cell_type": "code",
   "execution_count": 83,
   "metadata": {},
   "outputs": [
    {
     "name": "stdout",
     "output_type": "stream",
     "text": [
      "Coefficients: \n",
      " [0.]\n",
      "Mean squared error: 92.45\n"
     ]
    }
   ],
   "source": [
    "#initialisation of linear regression \n",
    "linear_model = LinearRegression()\n",
    "\n",
    "#inserting the train data in model for training purpose \n",
    "linear_model.fit(X_train,y_train)\n",
    "#now model trained with this data\n",
    "\n",
    "#now we will do prediction for the data \n",
    "y_pred = linear_model.predict(X_test)\n",
    "\n",
    "#test our result how accurate our model is \n",
    "error = y_test-y_pred\n",
    "\n",
    "#e= np.sum(error)\n",
    "#abserror = np.absolute(error)\n",
    "#sqrarr= np.square(error)\n",
    "#addall= np.sum(sqrarr)\n",
    "print('Coefficients: \\n', linear_model.coef_)\n",
    "print(\"Mean squared error: %.2f\"\n",
    "      % mean_squared_error(y_test, y_pred))"
   ]
  }
 ],
 "metadata": {
  "kernelspec": {
   "display_name": "Python 3",
   "language": "python",
   "name": "python3"
  },
  "language_info": {
   "codemirror_mode": {
    "name": "ipython",
    "version": 3
   },
   "file_extension": ".py",
   "mimetype": "text/x-python",
   "name": "python",
   "nbconvert_exporter": "python",
   "pygments_lexer": "ipython3",
   "version": "3.6.4"
  }
 },
 "nbformat": 4,
 "nbformat_minor": 2
}
