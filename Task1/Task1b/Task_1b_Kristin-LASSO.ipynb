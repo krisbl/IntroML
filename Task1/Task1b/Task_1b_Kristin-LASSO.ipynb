{
 "cells": [
  {
   "cell_type": "markdown",
   "metadata": {},
   "source": [
    "# Task 1b\n",
    "## Kristin Blesch"
   ]
  },
  {
   "cell_type": "code",
   "execution_count": 8,
   "metadata": {},
   "outputs": [],
   "source": [
    "import pandas as pd\n",
    "import numpy as np\n",
    "from sklearn.linear_model import LinearRegression\n",
    "from sklearn.linear_model import LassoCV"
   ]
  },
  {
   "cell_type": "code",
   "execution_count": 9,
   "metadata": {},
   "outputs": [],
   "source": [
    "df_train = pd.read_csv('train.csv').as_matrix()\n",
    "y = df_train[:,1]\n",
    "x1 = df_train[:,2]\n",
    "x2 = df_train[:,3]\n",
    "x3 = df_train[:,4]\n",
    "x4 = df_train[:,5]\n",
    "x5 = df_train[:,6]"
   ]
  },
  {
   "cell_type": "markdown",
   "metadata": {},
   "source": [
    "### Stack transformed variables together in one array"
   ]
  },
  {
   "cell_type": "code",
   "execution_count": 10,
   "metadata": {},
   "outputs": [],
   "source": [
    "x = np.column_stack((x1, x2, x3, x4, x5, \n",
    "                       x1**2, x2**2, x3**2, x4**2, x5**2,\n",
    "                       np.exp(x1),np.exp(x2),np.exp(x3),np.exp(x4),np.exp(x5), \n",
    "                        np.cos(x1),np.cos(x2),np.cos(x3),np.cos(x4),np.cos(x5),\n",
    "                        np.ones(df_train.shape[0])))"
   ]
  },
  {
   "cell_type": "markdown",
   "metadata": {},
   "source": [
    "### Fit linear model without intercept"
   ]
  },
  {
   "cell_type": "code",
   "execution_count": 11,
   "metadata": {},
   "outputs": [],
   "source": [
    "model = LassoCV(fit_intercept=False, cv = 10).fit(x, y)\n",
    "result = pd.DataFrame(model.coef_)"
   ]
  },
  {
   "cell_type": "markdown",
   "metadata": {},
   "source": [
    "### Result: coefficients"
   ]
  },
  {
   "cell_type": "code",
   "execution_count": 12,
   "metadata": {},
   "outputs": [
    {
     "name": "stdout",
     "output_type": "stream",
     "text": [
      "           0\n",
      "0   0.787118\n",
      "1  -1.234112\n",
      "2   0.001809\n",
      "3   0.167733\n",
      "4  -0.000000\n",
      "5  -1.281669\n",
      "6   0.000000\n",
      "7  -0.289184\n",
      "8  -1.143665\n",
      "9   0.752365\n",
      "10  1.054280\n",
      "11 -0.000000\n",
      "12 -1.067206\n",
      "13  0.175578\n",
      "14 -0.079371\n",
      "15 -0.000000\n",
      "16 -0.000000\n",
      "17 -0.000000\n",
      "18 -2.363147\n",
      "19 -0.000000\n",
      "20 -0.000000\n"
     ]
    }
   ],
   "source": [
    "print(pd.DataFrame(result))"
   ]
  },
  {
   "cell_type": "code",
   "execution_count": 13,
   "metadata": {},
   "outputs": [],
   "source": [
    "result.to_csv('k_submission_task1b.csv', index = False, header = False)"
   ]
  },
  {
   "cell_type": "code",
   "execution_count": null,
   "metadata": {},
   "outputs": [],
   "source": []
  }
 ],
 "metadata": {
  "kernelspec": {
   "display_name": "Python 3",
   "language": "python",
   "name": "python3"
  },
  "language_info": {
   "codemirror_mode": {
    "name": "ipython",
    "version": 3
   },
   "file_extension": ".py",
   "mimetype": "text/x-python",
   "name": "python",
   "nbconvert_exporter": "python",
   "pygments_lexer": "ipython3",
   "version": "3.6.4"
  }
 },
 "nbformat": 4,
 "nbformat_minor": 2
}
