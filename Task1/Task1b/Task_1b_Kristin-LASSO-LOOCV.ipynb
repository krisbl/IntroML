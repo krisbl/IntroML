{
 "cells": [
  {
   "cell_type": "markdown",
   "metadata": {},
   "source": [
    "# Task 1b\n",
    "## Kristin Blesch"
   ]
  },
  {
   "cell_type": "code",
   "execution_count": 14,
   "metadata": {},
   "outputs": [],
   "source": [
    "import pandas as pd\n",
    "import numpy as np\n",
    "from sklearn.linear_model import LinearRegression\n",
    "from sklearn.linear_model import LassoCV"
   ]
  },
  {
   "cell_type": "code",
   "execution_count": 15,
   "metadata": {},
   "outputs": [],
   "source": [
    "df_train = pd.read_csv('train.csv').as_matrix()\n",
    "y = df_train[:,1]\n",
    "x1 = df_train[:,2]\n",
    "x2 = df_train[:,3]\n",
    "x3 = df_train[:,4]\n",
    "x4 = df_train[:,5]\n",
    "x5 = df_train[:,6]"
   ]
  },
  {
   "cell_type": "markdown",
   "metadata": {},
   "source": [
    "### Stack transformed variables together in one array"
   ]
  },
  {
   "cell_type": "code",
   "execution_count": 16,
   "metadata": {},
   "outputs": [],
   "source": [
    "x = np.column_stack((x1, x2, x3, x4, x5, \n",
    "                       x1**2, x2**2, x3**2, x4**2, x5**2,\n",
    "                       np.exp(x1),np.exp(x2),np.exp(x3),np.exp(x4),np.exp(x5), \n",
    "                        np.cos(x1),np.cos(x2),np.cos(x3),np.cos(x4),np.cos(x5),\n",
    "                        np.ones(df_train.shape[0])))"
   ]
  },
  {
   "cell_type": "code",
   "execution_count": 17,
   "metadata": {},
   "outputs": [],
   "source": [
    "folds = np.size(x, axis=0)"
   ]
  },
  {
   "cell_type": "markdown",
   "metadata": {},
   "source": [
    "### Fit linear model without intercept"
   ]
  },
  {
   "cell_type": "code",
   "execution_count": 18,
   "metadata": {},
   "outputs": [],
   "source": [
    "model = LassoCV(fit_intercept=False, cv = folds).fit(x, y)\n",
    "result = pd.DataFrame(model.coef_)"
   ]
  },
  {
   "cell_type": "markdown",
   "metadata": {},
   "source": [
    "### Result: coefficients"
   ]
  },
  {
   "cell_type": "code",
   "execution_count": 19,
   "metadata": {},
   "outputs": [
    {
     "name": "stdout",
     "output_type": "stream",
     "text": [
      "           0\n",
      "0   0.485901\n",
      "1  -1.399347\n",
      "2   0.135310\n",
      "3   0.000000\n",
      "4  -0.000000\n",
      "5  -1.432891\n",
      "6  -0.000000\n",
      "7  -0.224949\n",
      "8  -1.628375\n",
      "9   1.000553\n",
      "10  1.270022\n",
      "11  0.083165\n",
      "12 -1.126246\n",
      "13  0.316945\n",
      "14 -0.097226\n",
      "15  0.000000\n",
      "16  0.000000\n",
      "17  0.000000\n",
      "18 -3.494258\n",
      "19  0.600926\n",
      "20 -0.000000\n"
     ]
    }
   ],
   "source": [
    "print(pd.DataFrame(result))"
   ]
  },
  {
   "cell_type": "code",
   "execution_count": 20,
   "metadata": {},
   "outputs": [],
   "source": [
    "result.to_csv('k_submission_task1b_LASSO_LOOCV.csv', index = False, header = False)"
   ]
  },
  {
   "cell_type": "code",
   "execution_count": null,
   "metadata": {},
   "outputs": [],
   "source": []
  }
 ],
 "metadata": {
  "kernelspec": {
   "display_name": "Python 3",
   "language": "python",
   "name": "python3"
  },
  "language_info": {
   "codemirror_mode": {
    "name": "ipython",
    "version": 3
   },
   "file_extension": ".py",
   "mimetype": "text/x-python",
   "name": "python",
   "nbconvert_exporter": "python",
   "pygments_lexer": "ipython3",
   "version": "3.6.4"
  }
 },
 "nbformat": 4,
 "nbformat_minor": 2
}
