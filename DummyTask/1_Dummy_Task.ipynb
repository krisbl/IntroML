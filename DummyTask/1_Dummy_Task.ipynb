{
 "cells": [
  {
   "cell_type": "markdown",
   "metadata": {},
   "source": [
    "# Introduction to Machine Learning: Dummy Task\n",
    "\n",
    "__Author__: Jannick Sicher"
   ]
  },
  {
   "cell_type": "markdown",
   "metadata": {},
   "source": [
    "### Initial Configurations"
   ]
  },
  {
   "cell_type": "code",
   "execution_count": 1,
   "metadata": {},
   "outputs": [],
   "source": [
    "import pandas as pd\n",
    "import sklearn as sk\n",
    "import numpy as np\n",
    "from sklearn import datasets, linear_model\n",
    "from sklearn.linear_model import LinearRegression\n",
    "from sklearn.metrics import mean_squared_error, r2_score\n",
    "import matplotlib.pyplot as plt\n",
    "import seaborn as sns"
   ]
  },
  {
   "cell_type": "markdown",
   "metadata": {},
   "source": [
    "### Train and Test Set"
   ]
  },
  {
   "cell_type": "code",
   "execution_count": 2,
   "metadata": {},
   "outputs": [],
   "source": [
    "### Load train and test set\n",
    "df_train = pd.read_csv('train.csv')\n",
    "df_test = pd.read_csv('test.csv')"
   ]
  },
  {
   "cell_type": "code",
   "execution_count": 3,
   "metadata": {},
   "outputs": [
    {
     "data": {
      "text/html": [
       "<div>\n",
       "<table border=\"1\" class=\"dataframe\">\n",
       "  <thead>\n",
       "    <tr style=\"text-align: right;\">\n",
       "      <th></th>\n",
       "      <th>Id</th>\n",
       "      <th>y</th>\n",
       "      <th>x1</th>\n",
       "      <th>x2</th>\n",
       "      <th>x3</th>\n",
       "      <th>x4</th>\n",
       "      <th>x5</th>\n",
       "      <th>x6</th>\n",
       "      <th>x7</th>\n",
       "      <th>x8</th>\n",
       "      <th>x9</th>\n",
       "      <th>x10</th>\n",
       "    </tr>\n",
       "  </thead>\n",
       "  <tbody>\n",
       "    <tr>\n",
       "      <th>0</th>\n",
       "      <td>0</td>\n",
       "      <td>738.023171</td>\n",
       "      <td>1764.052346</td>\n",
       "      <td>400.157208</td>\n",
       "      <td>978.737984</td>\n",
       "      <td>2240.893199</td>\n",
       "      <td>1867.557990</td>\n",
       "      <td>-977.277880</td>\n",
       "      <td>950.088418</td>\n",
       "      <td>-151.357208</td>\n",
       "      <td>-103.218852</td>\n",
       "      <td>410.598502</td>\n",
       "    </tr>\n",
       "    <tr>\n",
       "      <th>1</th>\n",
       "      <td>1</td>\n",
       "      <td>400.646015</td>\n",
       "      <td>144.043571</td>\n",
       "      <td>1454.273507</td>\n",
       "      <td>761.037725</td>\n",
       "      <td>121.675016</td>\n",
       "      <td>443.863233</td>\n",
       "      <td>333.674327</td>\n",
       "      <td>1494.079073</td>\n",
       "      <td>-205.158264</td>\n",
       "      <td>313.067702</td>\n",
       "      <td>-854.095739</td>\n",
       "    </tr>\n",
       "    <tr>\n",
       "      <th>2</th>\n",
       "      <td>2</td>\n",
       "      <td>189.900156</td>\n",
       "      <td>-2552.989816</td>\n",
       "      <td>653.618595</td>\n",
       "      <td>864.436199</td>\n",
       "      <td>-742.165020</td>\n",
       "      <td>2269.754624</td>\n",
       "      <td>-1454.365675</td>\n",
       "      <td>45.758517</td>\n",
       "      <td>-187.183850</td>\n",
       "      <td>1532.779214</td>\n",
       "      <td>1469.358770</td>\n",
       "    </tr>\n",
       "    <tr>\n",
       "      <th>3</th>\n",
       "      <td>3</td>\n",
       "      <td>-78.399449</td>\n",
       "      <td>154.947426</td>\n",
       "      <td>378.162520</td>\n",
       "      <td>-887.785748</td>\n",
       "      <td>-1980.796468</td>\n",
       "      <td>-347.912149</td>\n",
       "      <td>156.348969</td>\n",
       "      <td>1230.290681</td>\n",
       "      <td>1202.379849</td>\n",
       "      <td>-387.326817</td>\n",
       "      <td>-302.302751</td>\n",
       "    </tr>\n",
       "    <tr>\n",
       "      <th>4</th>\n",
       "      <td>4</td>\n",
       "      <td>-547.373531</td>\n",
       "      <td>-1048.552965</td>\n",
       "      <td>-1420.017937</td>\n",
       "      <td>-1706.270191</td>\n",
       "      <td>1950.775395</td>\n",
       "      <td>-509.652182</td>\n",
       "      <td>-438.074302</td>\n",
       "      <td>-1252.795360</td>\n",
       "      <td>777.490356</td>\n",
       "      <td>-1613.897848</td>\n",
       "      <td>-212.740280</td>\n",
       "    </tr>\n",
       "  </tbody>\n",
       "</table>\n",
       "</div>"
      ],
      "text/plain": [
       "   Id           y           x1           x2           x3           x4  \\\n",
       "0   0  738.023171  1764.052346   400.157208   978.737984  2240.893199   \n",
       "1   1  400.646015   144.043571  1454.273507   761.037725   121.675016   \n",
       "2   2  189.900156 -2552.989816   653.618595   864.436199  -742.165020   \n",
       "3   3  -78.399449   154.947426   378.162520  -887.785748 -1980.796468   \n",
       "4   4 -547.373531 -1048.552965 -1420.017937 -1706.270191  1950.775395   \n",
       "\n",
       "            x5           x6           x7           x8           x9  \\\n",
       "0  1867.557990  -977.277880   950.088418  -151.357208  -103.218852   \n",
       "1   443.863233   333.674327  1494.079073  -205.158264   313.067702   \n",
       "2  2269.754624 -1454.365675    45.758517  -187.183850  1532.779214   \n",
       "3  -347.912149   156.348969  1230.290681  1202.379849  -387.326817   \n",
       "4  -509.652182  -438.074302 -1252.795360   777.490356 -1613.897848   \n",
       "\n",
       "           x10  \n",
       "0   410.598502  \n",
       "1  -854.095739  \n",
       "2  1469.358770  \n",
       "3  -302.302751  \n",
       "4  -212.740280  "
      ]
     },
     "execution_count": 3,
     "metadata": {},
     "output_type": "execute_result"
    }
   ],
   "source": [
    "## Display train data\n",
    "df_train.head()"
   ]
  },
  {
   "cell_type": "code",
   "execution_count": 4,
   "metadata": {},
   "outputs": [
    {
     "data": {
      "text/html": [
       "<div>\n",
       "<table border=\"1\" class=\"dataframe\">\n",
       "  <thead>\n",
       "    <tr style=\"text-align: right;\">\n",
       "      <th></th>\n",
       "      <th>Id</th>\n",
       "      <th>x1</th>\n",
       "      <th>x2</th>\n",
       "      <th>x3</th>\n",
       "      <th>x4</th>\n",
       "      <th>x5</th>\n",
       "      <th>x6</th>\n",
       "      <th>x7</th>\n",
       "      <th>x8</th>\n",
       "      <th>x9</th>\n",
       "      <th>x10</th>\n",
       "    </tr>\n",
       "  </thead>\n",
       "  <tbody>\n",
       "    <tr>\n",
       "      <th>0</th>\n",
       "      <td>10000</td>\n",
       "      <td>-483.797492</td>\n",
       "      <td>1288.057065</td>\n",
       "      <td>-129.878712</td>\n",
       "      <td>-198.078388</td>\n",
       "      <td>-334.487592</td>\n",
       "      <td>-391.443186</td>\n",
       "      <td>-612.406176</td>\n",
       "      <td>-676.523964</td>\n",
       "      <td>1327.229655</td>\n",
       "      <td>-448.695446</td>\n",
       "    </tr>\n",
       "    <tr>\n",
       "      <th>1</th>\n",
       "      <td>10001</td>\n",
       "      <td>-316.407305</td>\n",
       "      <td>30.830556</td>\n",
       "      <td>-313.356726</td>\n",
       "      <td>-173.259184</td>\n",
       "      <td>-327.368719</td>\n",
       "      <td>944.368248</td>\n",
       "      <td>1122.017380</td>\n",
       "      <td>112.338731</td>\n",
       "      <td>1372.340221</td>\n",
       "      <td>2062.561842</td>\n",
       "    </tr>\n",
       "    <tr>\n",
       "      <th>2</th>\n",
       "      <td>10002</td>\n",
       "      <td>-2448.558997</td>\n",
       "      <td>-561.988408</td>\n",
       "      <td>355.098820</td>\n",
       "      <td>634.378170</td>\n",
       "      <td>-392.450091</td>\n",
       "      <td>-813.156399</td>\n",
       "      <td>-232.873263</td>\n",
       "      <td>246.801210</td>\n",
       "      <td>-562.413197</td>\n",
       "      <td>-841.602015</td>\n",
       "    </tr>\n",
       "    <tr>\n",
       "      <th>3</th>\n",
       "      <td>10003</td>\n",
       "      <td>-942.120025</td>\n",
       "      <td>945.373015</td>\n",
       "      <td>140.910705</td>\n",
       "      <td>1753.565841</td>\n",
       "      <td>-347.223685</td>\n",
       "      <td>-1489.493408</td>\n",
       "      <td>-508.035412</td>\n",
       "      <td>1992.650031</td>\n",
       "      <td>555.461973</td>\n",
       "      <td>-1696.076948</td>\n",
       "    </tr>\n",
       "    <tr>\n",
       "      <th>4</th>\n",
       "      <td>10004</td>\n",
       "      <td>1752.366157</td>\n",
       "      <td>-597.550816</td>\n",
       "      <td>-466.491398</td>\n",
       "      <td>-1094.792276</td>\n",
       "      <td>-645.424882</td>\n",
       "      <td>-202.154830</td>\n",
       "      <td>205.073469</td>\n",
       "      <td>-270.385827</td>\n",
       "      <td>-310.299496</td>\n",
       "      <td>362.212675</td>\n",
       "    </tr>\n",
       "  </tbody>\n",
       "</table>\n",
       "</div>"
      ],
      "text/plain": [
       "      Id           x1           x2          x3           x4          x5  \\\n",
       "0  10000  -483.797492  1288.057065 -129.878712  -198.078388 -334.487592   \n",
       "1  10001  -316.407305    30.830556 -313.356726  -173.259184 -327.368719   \n",
       "2  10002 -2448.558997  -561.988408  355.098820   634.378170 -392.450091   \n",
       "3  10003  -942.120025   945.373015  140.910705  1753.565841 -347.223685   \n",
       "4  10004  1752.366157  -597.550816 -466.491398 -1094.792276 -645.424882   \n",
       "\n",
       "            x6           x7           x8           x9          x10  \n",
       "0  -391.443186  -612.406176  -676.523964  1327.229655  -448.695446  \n",
       "1   944.368248  1122.017380   112.338731  1372.340221  2062.561842  \n",
       "2  -813.156399  -232.873263   246.801210  -562.413197  -841.602015  \n",
       "3 -1489.493408  -508.035412  1992.650031   555.461973 -1696.076948  \n",
       "4  -202.154830   205.073469  -270.385827  -310.299496   362.212675  "
      ]
     },
     "execution_count": 4,
     "metadata": {},
     "output_type": "execute_result"
    }
   ],
   "source": [
    "## Display test data\n",
    "df_test.head()"
   ]
  },
  {
   "cell_type": "code",
   "execution_count": 5,
   "metadata": {},
   "outputs": [
    {
     "data": {
      "text/html": [
       "<div>\n",
       "<table border=\"1\" class=\"dataframe\">\n",
       "  <thead>\n",
       "    <tr style=\"text-align: right;\">\n",
       "      <th></th>\n",
       "      <th>x1</th>\n",
       "      <th>x2</th>\n",
       "      <th>x3</th>\n",
       "      <th>x4</th>\n",
       "      <th>x5</th>\n",
       "      <th>x6</th>\n",
       "      <th>x7</th>\n",
       "      <th>x8</th>\n",
       "      <th>x9</th>\n",
       "      <th>x10</th>\n",
       "    </tr>\n",
       "  </thead>\n",
       "  <tbody>\n",
       "    <tr>\n",
       "      <th>0</th>\n",
       "      <td>1764.052346</td>\n",
       "      <td>400.157208</td>\n",
       "      <td>978.737984</td>\n",
       "      <td>2240.893199</td>\n",
       "      <td>1867.557990</td>\n",
       "      <td>-977.277880</td>\n",
       "      <td>950.088418</td>\n",
       "      <td>-151.357208</td>\n",
       "      <td>-103.218852</td>\n",
       "      <td>410.598502</td>\n",
       "    </tr>\n",
       "    <tr>\n",
       "      <th>1</th>\n",
       "      <td>144.043571</td>\n",
       "      <td>1454.273507</td>\n",
       "      <td>761.037725</td>\n",
       "      <td>121.675016</td>\n",
       "      <td>443.863233</td>\n",
       "      <td>333.674327</td>\n",
       "      <td>1494.079073</td>\n",
       "      <td>-205.158264</td>\n",
       "      <td>313.067702</td>\n",
       "      <td>-854.095739</td>\n",
       "    </tr>\n",
       "    <tr>\n",
       "      <th>2</th>\n",
       "      <td>-2552.989816</td>\n",
       "      <td>653.618595</td>\n",
       "      <td>864.436199</td>\n",
       "      <td>-742.165020</td>\n",
       "      <td>2269.754624</td>\n",
       "      <td>-1454.365675</td>\n",
       "      <td>45.758517</td>\n",
       "      <td>-187.183850</td>\n",
       "      <td>1532.779214</td>\n",
       "      <td>1469.358770</td>\n",
       "    </tr>\n",
       "    <tr>\n",
       "      <th>3</th>\n",
       "      <td>154.947426</td>\n",
       "      <td>378.162520</td>\n",
       "      <td>-887.785748</td>\n",
       "      <td>-1980.796468</td>\n",
       "      <td>-347.912149</td>\n",
       "      <td>156.348969</td>\n",
       "      <td>1230.290681</td>\n",
       "      <td>1202.379849</td>\n",
       "      <td>-387.326817</td>\n",
       "      <td>-302.302751</td>\n",
       "    </tr>\n",
       "    <tr>\n",
       "      <th>4</th>\n",
       "      <td>-1048.552965</td>\n",
       "      <td>-1420.017937</td>\n",
       "      <td>-1706.270191</td>\n",
       "      <td>1950.775395</td>\n",
       "      <td>-509.652182</td>\n",
       "      <td>-438.074302</td>\n",
       "      <td>-1252.795360</td>\n",
       "      <td>777.490356</td>\n",
       "      <td>-1613.897848</td>\n",
       "      <td>-212.740280</td>\n",
       "    </tr>\n",
       "  </tbody>\n",
       "</table>\n",
       "</div>"
      ],
      "text/plain": [
       "            x1           x2           x3           x4           x5  \\\n",
       "0  1764.052346   400.157208   978.737984  2240.893199  1867.557990   \n",
       "1   144.043571  1454.273507   761.037725   121.675016   443.863233   \n",
       "2 -2552.989816   653.618595   864.436199  -742.165020  2269.754624   \n",
       "3   154.947426   378.162520  -887.785748 -1980.796468  -347.912149   \n",
       "4 -1048.552965 -1420.017937 -1706.270191  1950.775395  -509.652182   \n",
       "\n",
       "            x6           x7           x8           x9          x10  \n",
       "0  -977.277880   950.088418  -151.357208  -103.218852   410.598502  \n",
       "1   333.674327  1494.079073  -205.158264   313.067702  -854.095739  \n",
       "2 -1454.365675    45.758517  -187.183850  1532.779214  1469.358770  \n",
       "3   156.348969  1230.290681  1202.379849  -387.326817  -302.302751  \n",
       "4  -438.074302 -1252.795360   777.490356 -1613.897848  -212.740280  "
      ]
     },
     "execution_count": 5,
     "metadata": {},
     "output_type": "execute_result"
    }
   ],
   "source": [
    "## Train data: Predictors\n",
    "df_train_X = df_train[['x1', 'x2', 'x3', 'x4', 'x5', 'x6', 'x7', 'x8', 'x9', 'x10']]\n",
    "df_train_X.head()"
   ]
  },
  {
   "cell_type": "code",
   "execution_count": 6,
   "metadata": {},
   "outputs": [
    {
     "data": {
      "text/html": [
       "<div>\n",
       "<table border=\"1\" class=\"dataframe\">\n",
       "  <thead>\n",
       "    <tr style=\"text-align: right;\">\n",
       "      <th></th>\n",
       "      <th>y</th>\n",
       "    </tr>\n",
       "  </thead>\n",
       "  <tbody>\n",
       "    <tr>\n",
       "      <th>0</th>\n",
       "      <td>738.023171</td>\n",
       "    </tr>\n",
       "    <tr>\n",
       "      <th>1</th>\n",
       "      <td>400.646015</td>\n",
       "    </tr>\n",
       "    <tr>\n",
       "      <th>2</th>\n",
       "      <td>189.900156</td>\n",
       "    </tr>\n",
       "    <tr>\n",
       "      <th>3</th>\n",
       "      <td>-78.399449</td>\n",
       "    </tr>\n",
       "    <tr>\n",
       "      <th>4</th>\n",
       "      <td>-547.373531</td>\n",
       "    </tr>\n",
       "  </tbody>\n",
       "</table>\n",
       "</div>"
      ],
      "text/plain": [
       "            y\n",
       "0  738.023171\n",
       "1  400.646015\n",
       "2  189.900156\n",
       "3  -78.399449\n",
       "4 -547.373531"
      ]
     },
     "execution_count": 6,
     "metadata": {},
     "output_type": "execute_result"
    }
   ],
   "source": [
    "## Train data: Target\n",
    "df_train_Y = df_train[['y']]\n",
    "df_train_Y.head()"
   ]
  },
  {
   "cell_type": "code",
   "execution_count": 7,
   "metadata": {},
   "outputs": [
    {
     "data": {
      "text/html": [
       "<div>\n",
       "<table border=\"1\" class=\"dataframe\">\n",
       "  <thead>\n",
       "    <tr style=\"text-align: right;\">\n",
       "      <th></th>\n",
       "      <th>x1</th>\n",
       "      <th>x2</th>\n",
       "      <th>x3</th>\n",
       "      <th>x4</th>\n",
       "      <th>x5</th>\n",
       "      <th>x6</th>\n",
       "      <th>x7</th>\n",
       "      <th>x8</th>\n",
       "      <th>x9</th>\n",
       "      <th>x10</th>\n",
       "    </tr>\n",
       "  </thead>\n",
       "  <tbody>\n",
       "    <tr>\n",
       "      <th>0</th>\n",
       "      <td>-483.797492</td>\n",
       "      <td>1288.057065</td>\n",
       "      <td>-129.878712</td>\n",
       "      <td>-198.078388</td>\n",
       "      <td>-334.487592</td>\n",
       "      <td>-391.443186</td>\n",
       "      <td>-612.406176</td>\n",
       "      <td>-676.523964</td>\n",
       "      <td>1327.229655</td>\n",
       "      <td>-448.695446</td>\n",
       "    </tr>\n",
       "    <tr>\n",
       "      <th>1</th>\n",
       "      <td>-316.407305</td>\n",
       "      <td>30.830556</td>\n",
       "      <td>-313.356726</td>\n",
       "      <td>-173.259184</td>\n",
       "      <td>-327.368719</td>\n",
       "      <td>944.368248</td>\n",
       "      <td>1122.017380</td>\n",
       "      <td>112.338731</td>\n",
       "      <td>1372.340221</td>\n",
       "      <td>2062.561842</td>\n",
       "    </tr>\n",
       "    <tr>\n",
       "      <th>2</th>\n",
       "      <td>-2448.558997</td>\n",
       "      <td>-561.988408</td>\n",
       "      <td>355.098820</td>\n",
       "      <td>634.378170</td>\n",
       "      <td>-392.450091</td>\n",
       "      <td>-813.156399</td>\n",
       "      <td>-232.873263</td>\n",
       "      <td>246.801210</td>\n",
       "      <td>-562.413197</td>\n",
       "      <td>-841.602015</td>\n",
       "    </tr>\n",
       "    <tr>\n",
       "      <th>3</th>\n",
       "      <td>-942.120025</td>\n",
       "      <td>945.373015</td>\n",
       "      <td>140.910705</td>\n",
       "      <td>1753.565841</td>\n",
       "      <td>-347.223685</td>\n",
       "      <td>-1489.493408</td>\n",
       "      <td>-508.035412</td>\n",
       "      <td>1992.650031</td>\n",
       "      <td>555.461973</td>\n",
       "      <td>-1696.076948</td>\n",
       "    </tr>\n",
       "    <tr>\n",
       "      <th>4</th>\n",
       "      <td>1752.366157</td>\n",
       "      <td>-597.550816</td>\n",
       "      <td>-466.491398</td>\n",
       "      <td>-1094.792276</td>\n",
       "      <td>-645.424882</td>\n",
       "      <td>-202.154830</td>\n",
       "      <td>205.073469</td>\n",
       "      <td>-270.385827</td>\n",
       "      <td>-310.299496</td>\n",
       "      <td>362.212675</td>\n",
       "    </tr>\n",
       "  </tbody>\n",
       "</table>\n",
       "</div>"
      ],
      "text/plain": [
       "            x1           x2          x3           x4          x5           x6  \\\n",
       "0  -483.797492  1288.057065 -129.878712  -198.078388 -334.487592  -391.443186   \n",
       "1  -316.407305    30.830556 -313.356726  -173.259184 -327.368719   944.368248   \n",
       "2 -2448.558997  -561.988408  355.098820   634.378170 -392.450091  -813.156399   \n",
       "3  -942.120025   945.373015  140.910705  1753.565841 -347.223685 -1489.493408   \n",
       "4  1752.366157  -597.550816 -466.491398 -1094.792276 -645.424882  -202.154830   \n",
       "\n",
       "            x7           x8           x9          x10  \n",
       "0  -612.406176  -676.523964  1327.229655  -448.695446  \n",
       "1  1122.017380   112.338731  1372.340221  2062.561842  \n",
       "2  -232.873263   246.801210  -562.413197  -841.602015  \n",
       "3  -508.035412  1992.650031   555.461973 -1696.076948  \n",
       "4   205.073469  -270.385827  -310.299496   362.212675  "
      ]
     },
     "execution_count": 7,
     "metadata": {},
     "output_type": "execute_result"
    }
   ],
   "source": [
    "## Test data: Predictors\n",
    "df_test_X = df_test[['x1', 'x2', 'x3', 'x4', 'x5', 'x6', 'x7', 'x8', 'x9', 'x10']]\n",
    "df_test_X.head()"
   ]
  },
  {
   "cell_type": "markdown",
   "metadata": {},
   "source": [
    "### Calculating Mean of Target Variable in Test Set"
   ]
  },
  {
   "cell_type": "code",
   "execution_count": 8,
   "metadata": {},
   "outputs": [
    {
     "data": {
      "text/html": [
       "<div>\n",
       "<table border=\"1\" class=\"dataframe\">\n",
       "  <thead>\n",
       "    <tr style=\"text-align: right;\">\n",
       "      <th></th>\n",
       "      <th>x1</th>\n",
       "      <th>x2</th>\n",
       "      <th>x3</th>\n",
       "      <th>x4</th>\n",
       "      <th>x5</th>\n",
       "      <th>x6</th>\n",
       "      <th>x7</th>\n",
       "      <th>x8</th>\n",
       "      <th>x9</th>\n",
       "      <th>x10</th>\n",
       "      <th>sum</th>\n",
       "      <th>y</th>\n",
       "    </tr>\n",
       "  </thead>\n",
       "  <tbody>\n",
       "    <tr>\n",
       "      <th>0</th>\n",
       "      <td>-483.797492</td>\n",
       "      <td>1288.057065</td>\n",
       "      <td>-129.878712</td>\n",
       "      <td>-198.078388</td>\n",
       "      <td>-334.487592</td>\n",
       "      <td>-391.443186</td>\n",
       "      <td>-612.406176</td>\n",
       "      <td>-676.523964</td>\n",
       "      <td>1327.229655</td>\n",
       "      <td>-448.695446</td>\n",
       "      <td>-660.024235</td>\n",
       "      <td>-66.002423</td>\n",
       "    </tr>\n",
       "    <tr>\n",
       "      <th>1</th>\n",
       "      <td>-316.407305</td>\n",
       "      <td>30.830556</td>\n",
       "      <td>-313.356726</td>\n",
       "      <td>-173.259184</td>\n",
       "      <td>-327.368719</td>\n",
       "      <td>944.368248</td>\n",
       "      <td>1122.017380</td>\n",
       "      <td>112.338731</td>\n",
       "      <td>1372.340221</td>\n",
       "      <td>2062.561842</td>\n",
       "      <td>4514.065044</td>\n",
       "      <td>451.406504</td>\n",
       "    </tr>\n",
       "    <tr>\n",
       "      <th>2</th>\n",
       "      <td>-2448.558997</td>\n",
       "      <td>-561.988408</td>\n",
       "      <td>355.098820</td>\n",
       "      <td>634.378170</td>\n",
       "      <td>-392.450091</td>\n",
       "      <td>-813.156399</td>\n",
       "      <td>-232.873263</td>\n",
       "      <td>246.801210</td>\n",
       "      <td>-562.413197</td>\n",
       "      <td>-841.602015</td>\n",
       "      <td>-4616.764171</td>\n",
       "      <td>-461.676417</td>\n",
       "    </tr>\n",
       "    <tr>\n",
       "      <th>3</th>\n",
       "      <td>-942.120025</td>\n",
       "      <td>945.373015</td>\n",
       "      <td>140.910705</td>\n",
       "      <td>1753.565841</td>\n",
       "      <td>-347.223685</td>\n",
       "      <td>-1489.493408</td>\n",
       "      <td>-508.035412</td>\n",
       "      <td>1992.650031</td>\n",
       "      <td>555.461973</td>\n",
       "      <td>-1696.076948</td>\n",
       "      <td>405.012088</td>\n",
       "      <td>40.501209</td>\n",
       "    </tr>\n",
       "    <tr>\n",
       "      <th>4</th>\n",
       "      <td>1752.366157</td>\n",
       "      <td>-597.550816</td>\n",
       "      <td>-466.491398</td>\n",
       "      <td>-1094.792276</td>\n",
       "      <td>-645.424882</td>\n",
       "      <td>-202.154830</td>\n",
       "      <td>205.073469</td>\n",
       "      <td>-270.385827</td>\n",
       "      <td>-310.299496</td>\n",
       "      <td>362.212675</td>\n",
       "      <td>-1267.447225</td>\n",
       "      <td>-126.744722</td>\n",
       "    </tr>\n",
       "  </tbody>\n",
       "</table>\n",
       "</div>"
      ],
      "text/plain": [
       "            x1           x2          x3           x4          x5           x6  \\\n",
       "0  -483.797492  1288.057065 -129.878712  -198.078388 -334.487592  -391.443186   \n",
       "1  -316.407305    30.830556 -313.356726  -173.259184 -327.368719   944.368248   \n",
       "2 -2448.558997  -561.988408  355.098820   634.378170 -392.450091  -813.156399   \n",
       "3  -942.120025   945.373015  140.910705  1753.565841 -347.223685 -1489.493408   \n",
       "4  1752.366157  -597.550816 -466.491398 -1094.792276 -645.424882  -202.154830   \n",
       "\n",
       "            x7           x8           x9          x10          sum           y  \n",
       "0  -612.406176  -676.523964  1327.229655  -448.695446  -660.024235  -66.002423  \n",
       "1  1122.017380   112.338731  1372.340221  2062.561842  4514.065044  451.406504  \n",
       "2  -232.873263   246.801210  -562.413197  -841.602015 -4616.764171 -461.676417  \n",
       "3  -508.035412  1992.650031   555.461973 -1696.076948   405.012088   40.501209  \n",
       "4   205.073469  -270.385827  -310.299496   362.212675 -1267.447225 -126.744722  "
      ]
     },
     "execution_count": 8,
     "metadata": {},
     "output_type": "execute_result"
    }
   ],
   "source": [
    "## Test data: Target Variable\n",
    "df_test_Y1 = df_test[['x1', 'x2', 'x3', 'x4', 'x5', 'x6', 'x7', 'x8', 'x9', 'x10']]\n",
    "df_test_Y1['sum']= df_test_Y1.iloc[:,].sum(axis=1)\n",
    "df_test_Y1['y'] = df_test_Y1[\"sum\"]/10\n",
    "df_test_Y1.head()"
   ]
  },
  {
   "cell_type": "markdown",
   "metadata": {},
   "source": [
    "### Linear Regression"
   ]
  },
  {
   "cell_type": "code",
   "execution_count": 9,
   "metadata": {},
   "outputs": [
    {
     "data": {
      "text/plain": [
       "LinearRegression(copy_X=True, fit_intercept=True, n_jobs=1, normalize=False)"
      ]
     },
     "execution_count": 9,
     "metadata": {},
     "output_type": "execute_result"
    }
   ],
   "source": [
    "lm = LinearRegression()\n",
    "lm.fit(df_train_X, df_train_Y)"
   ]
  },
  {
   "cell_type": "code",
   "execution_count": 10,
   "metadata": {},
   "outputs": [],
   "source": [
    "df_test['y'] = lm.predict(df_test_X)"
   ]
  },
  {
   "cell_type": "code",
   "execution_count": 11,
   "metadata": {},
   "outputs": [
    {
     "data": {
      "text/plain": [
       "<matplotlib.axes._subplots.AxesSubplot at 0x1061a6eb8>"
      ]
     },
     "execution_count": 11,
     "metadata": {},
     "output_type": "execute_result"
    },
    {
     "data": {
      "image/png": "[encoded data removed]",
      "text/plain": [
       "<Figure size 432x288 with 1 Axes>"
      ]
     },
     "metadata": {},
     "output_type": "display_data"
    }
   ],
   "source": [
    "sns.regplot(df_test_Y1['y'],df_test['y'], fit_reg=False)"
   ]
  },
  {
   "cell_type": "markdown",
   "metadata": {},
   "source": [
    "### Model Evaluation"
   ]
  },
  {
   "cell_type": "code",
   "execution_count": 12,
   "metadata": {},
   "outputs": [
    {
     "name": "stdout",
     "output_type": "stream",
     "text": [
      "Slope: [[0.1 0.1 0.1 0.1 0.1 0.1 0.1 0.1 0.1 0.1]]\n",
      "Intercept: [2.22044605e-15]\n",
      "Root mean squared error:  1.0984270161209216e-12\n",
      "R2 score:  1.0\n"
     ]
    }
   ],
   "source": [
    "# model evaluation\n",
    "RMSE = mean_squared_error(df_test_Y1['y'], df_test['y'])**0.5\n",
    "r2 = r2_score(df_test_Y1['y'], df_test['y'])\n",
    "\n",
    "# printing values\n",
    "print('Slope:' ,lm.coef_)\n",
    "print('Intercept:', lm.intercept_)\n",
    "print('Root mean squared error: ', RMSE)\n",
    "print('R2 score: ', r2)"
   ]
  },
  {
   "cell_type": "markdown",
   "metadata": {},
   "source": [
    "### Submission File"
   ]
  },
  {
   "cell_type": "code",
   "execution_count": 13,
   "metadata": {},
   "outputs": [
    {
     "data": {
      "text/html": [
       "<div>\n",
       "<table border=\"1\" class=\"dataframe\">\n",
       "  <thead>\n",
       "    <tr style=\"text-align: right;\">\n",
       "      <th></th>\n",
       "      <th>Id</th>\n",
       "      <th>y</th>\n",
       "    </tr>\n",
       "  </thead>\n",
       "  <tbody>\n",
       "    <tr>\n",
       "      <th>0</th>\n",
       "      <td>10000</td>\n",
       "      <td>-66.002423</td>\n",
       "    </tr>\n",
       "    <tr>\n",
       "      <th>1</th>\n",
       "      <td>10001</td>\n",
       "      <td>451.406504</td>\n",
       "    </tr>\n",
       "    <tr>\n",
       "      <th>2</th>\n",
       "      <td>10002</td>\n",
       "      <td>-461.676417</td>\n",
       "    </tr>\n",
       "    <tr>\n",
       "      <th>3</th>\n",
       "      <td>10003</td>\n",
       "      <td>40.501209</td>\n",
       "    </tr>\n",
       "    <tr>\n",
       "      <th>4</th>\n",
       "      <td>10004</td>\n",
       "      <td>-126.744722</td>\n",
       "    </tr>\n",
       "  </tbody>\n",
       "</table>\n",
       "</div>"
      ],
      "text/plain": [
       "      Id           y\n",
       "0  10000  -66.002423\n",
       "1  10001  451.406504\n",
       "2  10002 -461.676417\n",
       "3  10003   40.501209\n",
       "4  10004 -126.744722"
      ]
     },
     "execution_count": 13,
     "metadata": {},
     "output_type": "execute_result"
    }
   ],
   "source": [
    "submission = df_test[['Id', 'y']]\n",
    "submission.head()"
   ]
  },
  {
   "cell_type": "code",
   "execution_count": 14,
   "metadata": {},
   "outputs": [],
   "source": [
    "submission.to_csv('submission.csv')    #to save the dataframe, df to submission.csv"
   ]
  }
 ],
 "metadata": {
  "kernelspec": {
   "display_name": "Python 3",
   "language": "python",
   "name": "python3"
  },
  "language_info": {
   "codemirror_mode": {
    "name": "ipython",
    "version": 3
   },
   "file_extension": ".py",
   "mimetype": "text/x-python",
   "name": "python",
   "nbconvert_exporter": "python",
   "pygments_lexer": "ipython3",
   "version": "3.6.4"
  }
 },
 "nbformat": 4,
 "nbformat_minor": 2
}
